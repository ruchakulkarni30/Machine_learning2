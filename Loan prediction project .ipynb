{
 "cells": [
  {
   "cell_type": "markdown",
   "id": "b172bd46",
   "metadata": {},
   "source": [
    "# Problem Statement"
   ]
  },
  {
   "cell_type": "markdown",
   "id": "1c49d1e6",
   "metadata": {},
   "source": [
    "A Company wants to automate the loan eligibility process based on customer details provided while filling online application form. The details filled by the customer are Gender, Marital Status, Education, Number of Dependents, Income of self and co applicant, Required Loan Amount, Required Loan Term, Credit History and others. The requirements is to check eligibility of the Customer given the inputs described above.(Classification)"
   ]
  },
  {
   "cell_type": "markdown",
   "id": "3cd71360",
   "metadata": {},
   "source": [
    "# Read Dataset"
   ]
  },
  {
   "cell_type": "code",
   "execution_count": 1,
   "id": "7d818c37",
   "metadata": {},
   "outputs": [],
   "source": [
    "import pandas as pd\n",
    "from warnings import filterwarnings\n",
    "filterwarnings(\"ignore\")\n",
    "trd = pd.read_csv(\"E:/etlhive/datascience/mega project 2/loan/training_set.csv\")\n",
    "tsd = pd.read_csv(\"E:/etlhive/datascience/mega project 2/loan/testing_set.csv\")"
   ]
  },
  {
   "cell_type": "code",
   "execution_count": 2,
   "id": "82f71c3a",
   "metadata": {},
   "outputs": [
    {
     "data": {
      "text/html": [
       "<div>\n",
       "<style scoped>\n",
       "    .dataframe tbody tr th:only-of-type {\n",
       "        vertical-align: middle;\n",
       "    }\n",
       "\n",
       "    .dataframe tbody tr th {\n",
       "        vertical-align: top;\n",
       "    }\n",
       "\n",
       "    .dataframe thead th {\n",
       "        text-align: right;\n",
       "    }\n",
       "</style>\n",
       "<table border=\"1\" class=\"dataframe\">\n",
       "  <thead>\n",
       "    <tr style=\"text-align: right;\">\n",
       "      <th></th>\n",
       "      <th>Loan_ID</th>\n",
       "      <th>Gender</th>\n",
       "      <th>Married</th>\n",
       "      <th>Dependents</th>\n",
       "      <th>Education</th>\n",
       "      <th>Self_Employed</th>\n",
       "      <th>ApplicantIncome</th>\n",
       "      <th>CoapplicantIncome</th>\n",
       "      <th>LoanAmount</th>\n",
       "      <th>Loan_Amount_Term</th>\n",
       "      <th>Credit_History</th>\n",
       "      <th>Property_Area</th>\n",
       "      <th>Loan_Status</th>\n",
       "    </tr>\n",
       "  </thead>\n",
       "  <tbody>\n",
       "    <tr>\n",
       "      <th>0</th>\n",
       "      <td>LP001002</td>\n",
       "      <td>Male</td>\n",
       "      <td>No</td>\n",
       "      <td>0</td>\n",
       "      <td>Graduate</td>\n",
       "      <td>No</td>\n",
       "      <td>5849.0</td>\n",
       "      <td>0.0</td>\n",
       "      <td>NaN</td>\n",
       "      <td>360.0</td>\n",
       "      <td>1.0</td>\n",
       "      <td>Urban</td>\n",
       "      <td>Y</td>\n",
       "    </tr>\n",
       "    <tr>\n",
       "      <th>1</th>\n",
       "      <td>LP001003</td>\n",
       "      <td>Male</td>\n",
       "      <td>Yes</td>\n",
       "      <td>1</td>\n",
       "      <td>Graduate</td>\n",
       "      <td>No</td>\n",
       "      <td>NaN</td>\n",
       "      <td>1508.0</td>\n",
       "      <td>128.0</td>\n",
       "      <td>360.0</td>\n",
       "      <td>1.0</td>\n",
       "      <td>Rural</td>\n",
       "      <td>N</td>\n",
       "    </tr>\n",
       "    <tr>\n",
       "      <th>2</th>\n",
       "      <td>LP001005</td>\n",
       "      <td>Male</td>\n",
       "      <td>Yes</td>\n",
       "      <td>0</td>\n",
       "      <td>Graduate</td>\n",
       "      <td>Yes</td>\n",
       "      <td>3000.0</td>\n",
       "      <td>0.0</td>\n",
       "      <td>66.0</td>\n",
       "      <td>360.0</td>\n",
       "      <td>1.0</td>\n",
       "      <td>Urban</td>\n",
       "      <td>Y</td>\n",
       "    </tr>\n",
       "    <tr>\n",
       "      <th>3</th>\n",
       "      <td>LP001006</td>\n",
       "      <td>Male</td>\n",
       "      <td>Yes</td>\n",
       "      <td>0</td>\n",
       "      <td>Not Graduate</td>\n",
       "      <td>No</td>\n",
       "      <td>2583.0</td>\n",
       "      <td>2358.0</td>\n",
       "      <td>120.0</td>\n",
       "      <td>360.0</td>\n",
       "      <td>1.0</td>\n",
       "      <td>Urban</td>\n",
       "      <td>Y</td>\n",
       "    </tr>\n",
       "    <tr>\n",
       "      <th>4</th>\n",
       "      <td>LP001008</td>\n",
       "      <td>Male</td>\n",
       "      <td>No</td>\n",
       "      <td>0</td>\n",
       "      <td>Graduate</td>\n",
       "      <td>No</td>\n",
       "      <td>6000.0</td>\n",
       "      <td>0.0</td>\n",
       "      <td>141.0</td>\n",
       "      <td>360.0</td>\n",
       "      <td>1.0</td>\n",
       "      <td>Urban</td>\n",
       "      <td>Y</td>\n",
       "    </tr>\n",
       "  </tbody>\n",
       "</table>\n",
       "</div>"
      ],
      "text/plain": [
       "    Loan_ID Gender Married Dependents     Education Self_Employed  \\\n",
       "0  LP001002   Male      No          0      Graduate            No   \n",
       "1  LP001003   Male     Yes          1      Graduate            No   \n",
       "2  LP001005   Male     Yes          0      Graduate           Yes   \n",
       "3  LP001006   Male     Yes          0  Not Graduate            No   \n",
       "4  LP001008   Male      No          0      Graduate            No   \n",
       "\n",
       "   ApplicantIncome  CoapplicantIncome  LoanAmount  Loan_Amount_Term  \\\n",
       "0           5849.0                0.0         NaN             360.0   \n",
       "1              NaN             1508.0       128.0             360.0   \n",
       "2           3000.0                0.0        66.0             360.0   \n",
       "3           2583.0             2358.0       120.0             360.0   \n",
       "4           6000.0                0.0       141.0             360.0   \n",
       "\n",
       "   Credit_History Property_Area Loan_Status  \n",
       "0             1.0         Urban           Y  \n",
       "1             1.0         Rural           N  \n",
       "2             1.0         Urban           Y  \n",
       "3             1.0         Urban           Y  \n",
       "4             1.0         Urban           Y  "
      ]
     },
     "execution_count": 2,
     "metadata": {},
     "output_type": "execute_result"
    }
   ],
   "source": [
    "trd.head()"
   ]
  },
  {
   "cell_type": "code",
   "execution_count": 3,
   "id": "014f37ab",
   "metadata": {},
   "outputs": [
    {
     "data": {
      "text/html": [
       "<div>\n",
       "<style scoped>\n",
       "    .dataframe tbody tr th:only-of-type {\n",
       "        vertical-align: middle;\n",
       "    }\n",
       "\n",
       "    .dataframe tbody tr th {\n",
       "        vertical-align: top;\n",
       "    }\n",
       "\n",
       "    .dataframe thead th {\n",
       "        text-align: right;\n",
       "    }\n",
       "</style>\n",
       "<table border=\"1\" class=\"dataframe\">\n",
       "  <thead>\n",
       "    <tr style=\"text-align: right;\">\n",
       "      <th></th>\n",
       "      <th>Loan_ID</th>\n",
       "      <th>Gender</th>\n",
       "      <th>Married</th>\n",
       "      <th>Dependents</th>\n",
       "      <th>Education</th>\n",
       "      <th>Self_Employed</th>\n",
       "      <th>ApplicantIncome</th>\n",
       "      <th>CoapplicantIncome</th>\n",
       "      <th>LoanAmount</th>\n",
       "      <th>Loan_Amount_Term</th>\n",
       "      <th>Credit_History</th>\n",
       "      <th>Property_Area</th>\n",
       "    </tr>\n",
       "  </thead>\n",
       "  <tbody>\n",
       "    <tr>\n",
       "      <th>0</th>\n",
       "      <td>LP001015</td>\n",
       "      <td>Male</td>\n",
       "      <td>Yes</td>\n",
       "      <td>0</td>\n",
       "      <td>Graduate</td>\n",
       "      <td>No</td>\n",
       "      <td>5720</td>\n",
       "      <td>0</td>\n",
       "      <td>110.0</td>\n",
       "      <td>360.0</td>\n",
       "      <td>1.0</td>\n",
       "      <td>Urban</td>\n",
       "    </tr>\n",
       "    <tr>\n",
       "      <th>1</th>\n",
       "      <td>LP001022</td>\n",
       "      <td>Male</td>\n",
       "      <td>Yes</td>\n",
       "      <td>1</td>\n",
       "      <td>Graduate</td>\n",
       "      <td>No</td>\n",
       "      <td>3076</td>\n",
       "      <td>1500</td>\n",
       "      <td>126.0</td>\n",
       "      <td>360.0</td>\n",
       "      <td>1.0</td>\n",
       "      <td>Urban</td>\n",
       "    </tr>\n",
       "    <tr>\n",
       "      <th>2</th>\n",
       "      <td>LP001031</td>\n",
       "      <td>Male</td>\n",
       "      <td>Yes</td>\n",
       "      <td>2</td>\n",
       "      <td>Graduate</td>\n",
       "      <td>No</td>\n",
       "      <td>5000</td>\n",
       "      <td>1800</td>\n",
       "      <td>208.0</td>\n",
       "      <td>360.0</td>\n",
       "      <td>1.0</td>\n",
       "      <td>Urban</td>\n",
       "    </tr>\n",
       "    <tr>\n",
       "      <th>3</th>\n",
       "      <td>LP001035</td>\n",
       "      <td>Male</td>\n",
       "      <td>Yes</td>\n",
       "      <td>2</td>\n",
       "      <td>Graduate</td>\n",
       "      <td>No</td>\n",
       "      <td>2340</td>\n",
       "      <td>2546</td>\n",
       "      <td>100.0</td>\n",
       "      <td>360.0</td>\n",
       "      <td>NaN</td>\n",
       "      <td>Urban</td>\n",
       "    </tr>\n",
       "    <tr>\n",
       "      <th>4</th>\n",
       "      <td>LP001051</td>\n",
       "      <td>Male</td>\n",
       "      <td>No</td>\n",
       "      <td>0</td>\n",
       "      <td>Not Graduate</td>\n",
       "      <td>No</td>\n",
       "      <td>3276</td>\n",
       "      <td>0</td>\n",
       "      <td>78.0</td>\n",
       "      <td>360.0</td>\n",
       "      <td>1.0</td>\n",
       "      <td>Urban</td>\n",
       "    </tr>\n",
       "  </tbody>\n",
       "</table>\n",
       "</div>"
      ],
      "text/plain": [
       "    Loan_ID Gender Married Dependents     Education Self_Employed  \\\n",
       "0  LP001015   Male     Yes          0      Graduate            No   \n",
       "1  LP001022   Male     Yes          1      Graduate            No   \n",
       "2  LP001031   Male     Yes          2      Graduate            No   \n",
       "3  LP001035   Male     Yes          2      Graduate            No   \n",
       "4  LP001051   Male      No          0  Not Graduate            No   \n",
       "\n",
       "   ApplicantIncome  CoapplicantIncome  LoanAmount  Loan_Amount_Term  \\\n",
       "0             5720                  0       110.0             360.0   \n",
       "1             3076               1500       126.0             360.0   \n",
       "2             5000               1800       208.0             360.0   \n",
       "3             2340               2546       100.0             360.0   \n",
       "4             3276                  0        78.0             360.0   \n",
       "\n",
       "   Credit_History Property_Area  \n",
       "0             1.0         Urban  \n",
       "1             1.0         Urban  \n",
       "2             1.0         Urban  \n",
       "3             NaN         Urban  \n",
       "4             1.0         Urban  "
      ]
     },
     "execution_count": 3,
     "metadata": {},
     "output_type": "execute_result"
    }
   ],
   "source": [
    "tsd.head()"
   ]
  },
  {
   "cell_type": "markdown",
   "id": "213dd3d8",
   "metadata": {},
   "source": [
    "# Profile"
   ]
  },
  {
   "cell_type": "code",
   "execution_count": 4,
   "id": "6413d2d7",
   "metadata": {},
   "outputs": [
    {
     "name": "stdout",
     "output_type": "stream",
     "text": [
      "<class 'pandas.core.frame.DataFrame'>\n",
      "RangeIndex: 614 entries, 0 to 613\n",
      "Data columns (total 13 columns):\n",
      " #   Column             Non-Null Count  Dtype  \n",
      "---  ------             --------------  -----  \n",
      " 0   Loan_ID            614 non-null    object \n",
      " 1   Gender             599 non-null    object \n",
      " 2   Married            611 non-null    object \n",
      " 3   Dependents         599 non-null    object \n",
      " 4   Education          613 non-null    object \n",
      " 5   Self_Employed      582 non-null    object \n",
      " 6   ApplicantIncome    612 non-null    float64\n",
      " 7   CoapplicantIncome  613 non-null    float64\n",
      " 8   LoanAmount         592 non-null    float64\n",
      " 9   Loan_Amount_Term   600 non-null    float64\n",
      " 10  Credit_History     564 non-null    float64\n",
      " 11  Property_Area      614 non-null    object \n",
      " 12  Loan_Status        614 non-null    object \n",
      "dtypes: float64(5), object(8)\n",
      "memory usage: 62.5+ KB\n"
     ]
    }
   ],
   "source": [
    "trd.info()"
   ]
  },
  {
   "cell_type": "markdown",
   "id": "de51fe25",
   "metadata": {},
   "source": [
    "# Missing data treatment"
   ]
  },
  {
   "cell_type": "code",
   "execution_count": 5,
   "id": "4ba8e5a2",
   "metadata": {},
   "outputs": [],
   "source": [
    "con = []\n",
    "cat = []\n",
    "for i in trd.columns:\n",
    "    if(trd[i].dtypes == \"object\"):\n",
    "        cat.append(i)\n",
    "    else:\n",
    "        con.append(i)"
   ]
  },
  {
   "cell_type": "code",
   "execution_count": 6,
   "id": "dba5afcc",
   "metadata": {},
   "outputs": [
    {
     "data": {
      "text/plain": [
       "['Loan_ID',\n",
       " 'Gender',\n",
       " 'Married',\n",
       " 'Dependents',\n",
       " 'Education',\n",
       " 'Self_Employed',\n",
       " 'Property_Area',\n",
       " 'Loan_Status']"
      ]
     },
     "execution_count": 6,
     "metadata": {},
     "output_type": "execute_result"
    }
   ],
   "source": [
    "cat"
   ]
  },
  {
   "cell_type": "code",
   "execution_count": 7,
   "id": "3c0a2ef4",
   "metadata": {},
   "outputs": [
    {
     "data": {
      "text/plain": [
       "['ApplicantIncome',\n",
       " 'CoapplicantIncome',\n",
       " 'LoanAmount',\n",
       " 'Loan_Amount_Term',\n",
       " 'Credit_History']"
      ]
     },
     "execution_count": 7,
     "metadata": {},
     "output_type": "execute_result"
    }
   ],
   "source": [
    "con"
   ]
  },
  {
   "cell_type": "code",
   "execution_count": 8,
   "id": "ffe3efb8",
   "metadata": {},
   "outputs": [],
   "source": [
    "cat.remove(\"Loan_Status\")"
   ]
  },
  {
   "cell_type": "code",
   "execution_count": 9,
   "id": "6f0c511b",
   "metadata": {},
   "outputs": [],
   "source": [
    "for i in cat:\n",
    "    x = trd[i].mode()[0]\n",
    "    trd[i] = trd[i].fillna(x)\n",
    "    tsd[i] = tsd[i].fillna(x)\n",
    "    \n",
    "for i in con:\n",
    "    x = trd[i].mean()\n",
    "    trd[i] = trd[i].fillna(x)\n",
    "    tsd[i] = tsd[i].fillna(x)"
   ]
  },
  {
   "cell_type": "code",
   "execution_count": 10,
   "id": "c2230cc5",
   "metadata": {},
   "outputs": [
    {
     "data": {
      "text/plain": [
       "Loan_ID              0\n",
       "Gender               0\n",
       "Married              0\n",
       "Dependents           0\n",
       "Education            0\n",
       "Self_Employed        0\n",
       "ApplicantIncome      0\n",
       "CoapplicantIncome    0\n",
       "LoanAmount           0\n",
       "Loan_Amount_Term     0\n",
       "Credit_History       0\n",
       "Property_Area        0\n",
       "Loan_Status          0\n",
       "dtype: int64"
      ]
     },
     "execution_count": 10,
     "metadata": {},
     "output_type": "execute_result"
    }
   ],
   "source": [
    "trd.isna().sum()"
   ]
  },
  {
   "cell_type": "code",
   "execution_count": 11,
   "id": "361b8381",
   "metadata": {},
   "outputs": [
    {
     "data": {
      "text/plain": [
       "Loan_ID              0\n",
       "Gender               0\n",
       "Married              0\n",
       "Dependents           0\n",
       "Education            0\n",
       "Self_Employed        0\n",
       "ApplicantIncome      0\n",
       "CoapplicantIncome    0\n",
       "LoanAmount           0\n",
       "Loan_Amount_Term     0\n",
       "Credit_History       0\n",
       "Property_Area        0\n",
       "dtype: int64"
      ]
     },
     "execution_count": 11,
     "metadata": {},
     "output_type": "execute_result"
    }
   ],
   "source": [
    "tsd.isna().sum()"
   ]
  },
  {
   "cell_type": "markdown",
   "id": "48b58b67",
   "metadata": {},
   "source": [
    "# Outliers"
   ]
  },
  {
   "cell_type": "code",
   "execution_count": 12,
   "id": "0711ba5a",
   "metadata": {},
   "outputs": [],
   "source": [
    "from sklearn.preprocessing import StandardScaler\n",
    "ss = StandardScaler()\n",
    "X1 = pd.DataFrame(ss.fit_transform(trd[con]),columns=con)"
   ]
  },
  {
   "cell_type": "code",
   "execution_count": 13,
   "id": "5a236d4f",
   "metadata": {},
   "outputs": [],
   "source": [
    "out = []\n",
    "for i in con:\n",
    "    out = out + list(X1[(X1[i]>3)|(X1[i]<-3)].index)"
   ]
  },
  {
   "cell_type": "code",
   "execution_count": 14,
   "id": "48618d59",
   "metadata": {},
   "outputs": [],
   "source": [
    "from numpy import unique\n",
    "outliers = list(unique(out))"
   ]
  },
  {
   "cell_type": "code",
   "execution_count": 15,
   "id": "31ba5b8c",
   "metadata": {},
   "outputs": [],
   "source": [
    "trd = trd.drop(index=outliers,axis=0)"
   ]
  },
  {
   "cell_type": "code",
   "execution_count": 16,
   "id": "4c39ce44",
   "metadata": {},
   "outputs": [
    {
     "data": {
      "text/plain": [
       "(577, 13)"
      ]
     },
     "execution_count": 16,
     "metadata": {},
     "output_type": "execute_result"
    }
   ],
   "source": [
    "trd.shape"
   ]
  },
  {
   "cell_type": "code",
   "execution_count": 17,
   "id": "4c73ad1d",
   "metadata": {},
   "outputs": [],
   "source": [
    "trd.index = range(0,577,1)"
   ]
  },
  {
   "cell_type": "code",
   "execution_count": 18,
   "id": "4b8ed565",
   "metadata": {},
   "outputs": [
    {
     "data": {
      "text/html": [
       "<div>\n",
       "<style scoped>\n",
       "    .dataframe tbody tr th:only-of-type {\n",
       "        vertical-align: middle;\n",
       "    }\n",
       "\n",
       "    .dataframe tbody tr th {\n",
       "        vertical-align: top;\n",
       "    }\n",
       "\n",
       "    .dataframe thead th {\n",
       "        text-align: right;\n",
       "    }\n",
       "</style>\n",
       "<table border=\"1\" class=\"dataframe\">\n",
       "  <thead>\n",
       "    <tr style=\"text-align: right;\">\n",
       "      <th></th>\n",
       "      <th>Loan_ID</th>\n",
       "      <th>Gender</th>\n",
       "      <th>Married</th>\n",
       "      <th>Dependents</th>\n",
       "      <th>Education</th>\n",
       "      <th>Self_Employed</th>\n",
       "      <th>ApplicantIncome</th>\n",
       "      <th>CoapplicantIncome</th>\n",
       "      <th>LoanAmount</th>\n",
       "      <th>Loan_Amount_Term</th>\n",
       "      <th>Credit_History</th>\n",
       "      <th>Property_Area</th>\n",
       "      <th>Loan_Status</th>\n",
       "    </tr>\n",
       "  </thead>\n",
       "  <tbody>\n",
       "    <tr>\n",
       "      <th>0</th>\n",
       "      <td>LP001002</td>\n",
       "      <td>Male</td>\n",
       "      <td>No</td>\n",
       "      <td>0</td>\n",
       "      <td>Graduate</td>\n",
       "      <td>No</td>\n",
       "      <td>5849.00000</td>\n",
       "      <td>0.0</td>\n",
       "      <td>146.412162</td>\n",
       "      <td>360.0</td>\n",
       "      <td>1.0</td>\n",
       "      <td>Urban</td>\n",
       "      <td>Y</td>\n",
       "    </tr>\n",
       "    <tr>\n",
       "      <th>1</th>\n",
       "      <td>LP001003</td>\n",
       "      <td>Male</td>\n",
       "      <td>Yes</td>\n",
       "      <td>1</td>\n",
       "      <td>Graduate</td>\n",
       "      <td>No</td>\n",
       "      <td>5405.54085</td>\n",
       "      <td>1508.0</td>\n",
       "      <td>128.000000</td>\n",
       "      <td>360.0</td>\n",
       "      <td>1.0</td>\n",
       "      <td>Rural</td>\n",
       "      <td>N</td>\n",
       "    </tr>\n",
       "    <tr>\n",
       "      <th>2</th>\n",
       "      <td>LP001005</td>\n",
       "      <td>Male</td>\n",
       "      <td>Yes</td>\n",
       "      <td>0</td>\n",
       "      <td>Graduate</td>\n",
       "      <td>Yes</td>\n",
       "      <td>3000.00000</td>\n",
       "      <td>0.0</td>\n",
       "      <td>66.000000</td>\n",
       "      <td>360.0</td>\n",
       "      <td>1.0</td>\n",
       "      <td>Urban</td>\n",
       "      <td>Y</td>\n",
       "    </tr>\n",
       "    <tr>\n",
       "      <th>3</th>\n",
       "      <td>LP001006</td>\n",
       "      <td>Male</td>\n",
       "      <td>Yes</td>\n",
       "      <td>0</td>\n",
       "      <td>Not Graduate</td>\n",
       "      <td>No</td>\n",
       "      <td>2583.00000</td>\n",
       "      <td>2358.0</td>\n",
       "      <td>120.000000</td>\n",
       "      <td>360.0</td>\n",
       "      <td>1.0</td>\n",
       "      <td>Urban</td>\n",
       "      <td>Y</td>\n",
       "    </tr>\n",
       "    <tr>\n",
       "      <th>4</th>\n",
       "      <td>LP001008</td>\n",
       "      <td>Male</td>\n",
       "      <td>No</td>\n",
       "      <td>0</td>\n",
       "      <td>Graduate</td>\n",
       "      <td>No</td>\n",
       "      <td>6000.00000</td>\n",
       "      <td>0.0</td>\n",
       "      <td>141.000000</td>\n",
       "      <td>360.0</td>\n",
       "      <td>1.0</td>\n",
       "      <td>Urban</td>\n",
       "      <td>Y</td>\n",
       "    </tr>\n",
       "    <tr>\n",
       "      <th>...</th>\n",
       "      <td>...</td>\n",
       "      <td>...</td>\n",
       "      <td>...</td>\n",
       "      <td>...</td>\n",
       "      <td>...</td>\n",
       "      <td>...</td>\n",
       "      <td>...</td>\n",
       "      <td>...</td>\n",
       "      <td>...</td>\n",
       "      <td>...</td>\n",
       "      <td>...</td>\n",
       "      <td>...</td>\n",
       "      <td>...</td>\n",
       "    </tr>\n",
       "    <tr>\n",
       "      <th>572</th>\n",
       "      <td>LP002978</td>\n",
       "      <td>Female</td>\n",
       "      <td>No</td>\n",
       "      <td>0</td>\n",
       "      <td>Graduate</td>\n",
       "      <td>No</td>\n",
       "      <td>2900.00000</td>\n",
       "      <td>0.0</td>\n",
       "      <td>71.000000</td>\n",
       "      <td>360.0</td>\n",
       "      <td>1.0</td>\n",
       "      <td>Rural</td>\n",
       "      <td>Y</td>\n",
       "    </tr>\n",
       "    <tr>\n",
       "      <th>573</th>\n",
       "      <td>LP002979</td>\n",
       "      <td>Male</td>\n",
       "      <td>Yes</td>\n",
       "      <td>3+</td>\n",
       "      <td>Graduate</td>\n",
       "      <td>No</td>\n",
       "      <td>4106.00000</td>\n",
       "      <td>0.0</td>\n",
       "      <td>40.000000</td>\n",
       "      <td>180.0</td>\n",
       "      <td>1.0</td>\n",
       "      <td>Rural</td>\n",
       "      <td>Y</td>\n",
       "    </tr>\n",
       "    <tr>\n",
       "      <th>574</th>\n",
       "      <td>LP002983</td>\n",
       "      <td>Male</td>\n",
       "      <td>Yes</td>\n",
       "      <td>1</td>\n",
       "      <td>Graduate</td>\n",
       "      <td>No</td>\n",
       "      <td>8072.00000</td>\n",
       "      <td>240.0</td>\n",
       "      <td>253.000000</td>\n",
       "      <td>360.0</td>\n",
       "      <td>1.0</td>\n",
       "      <td>Urban</td>\n",
       "      <td>Y</td>\n",
       "    </tr>\n",
       "    <tr>\n",
       "      <th>575</th>\n",
       "      <td>LP002984</td>\n",
       "      <td>Male</td>\n",
       "      <td>Yes</td>\n",
       "      <td>2</td>\n",
       "      <td>Graduate</td>\n",
       "      <td>No</td>\n",
       "      <td>7583.00000</td>\n",
       "      <td>0.0</td>\n",
       "      <td>187.000000</td>\n",
       "      <td>360.0</td>\n",
       "      <td>1.0</td>\n",
       "      <td>Urban</td>\n",
       "      <td>Y</td>\n",
       "    </tr>\n",
       "    <tr>\n",
       "      <th>576</th>\n",
       "      <td>LP002990</td>\n",
       "      <td>Female</td>\n",
       "      <td>No</td>\n",
       "      <td>0</td>\n",
       "      <td>Graduate</td>\n",
       "      <td>Yes</td>\n",
       "      <td>4583.00000</td>\n",
       "      <td>0.0</td>\n",
       "      <td>133.000000</td>\n",
       "      <td>360.0</td>\n",
       "      <td>0.0</td>\n",
       "      <td>Semiurban</td>\n",
       "      <td>N</td>\n",
       "    </tr>\n",
       "  </tbody>\n",
       "</table>\n",
       "<p>577 rows × 13 columns</p>\n",
       "</div>"
      ],
      "text/plain": [
       "      Loan_ID  Gender Married Dependents     Education Self_Employed  \\\n",
       "0    LP001002    Male      No          0      Graduate            No   \n",
       "1    LP001003    Male     Yes          1      Graduate            No   \n",
       "2    LP001005    Male     Yes          0      Graduate           Yes   \n",
       "3    LP001006    Male     Yes          0  Not Graduate            No   \n",
       "4    LP001008    Male      No          0      Graduate            No   \n",
       "..        ...     ...     ...        ...           ...           ...   \n",
       "572  LP002978  Female      No          0      Graduate            No   \n",
       "573  LP002979    Male     Yes         3+      Graduate            No   \n",
       "574  LP002983    Male     Yes          1      Graduate            No   \n",
       "575  LP002984    Male     Yes          2      Graduate            No   \n",
       "576  LP002990  Female      No          0      Graduate           Yes   \n",
       "\n",
       "     ApplicantIncome  CoapplicantIncome  LoanAmount  Loan_Amount_Term  \\\n",
       "0         5849.00000                0.0  146.412162             360.0   \n",
       "1         5405.54085             1508.0  128.000000             360.0   \n",
       "2         3000.00000                0.0   66.000000             360.0   \n",
       "3         2583.00000             2358.0  120.000000             360.0   \n",
       "4         6000.00000                0.0  141.000000             360.0   \n",
       "..               ...                ...         ...               ...   \n",
       "572       2900.00000                0.0   71.000000             360.0   \n",
       "573       4106.00000                0.0   40.000000             180.0   \n",
       "574       8072.00000              240.0  253.000000             360.0   \n",
       "575       7583.00000                0.0  187.000000             360.0   \n",
       "576       4583.00000                0.0  133.000000             360.0   \n",
       "\n",
       "     Credit_History Property_Area Loan_Status  \n",
       "0               1.0         Urban           Y  \n",
       "1               1.0         Rural           N  \n",
       "2               1.0         Urban           Y  \n",
       "3               1.0         Urban           Y  \n",
       "4               1.0         Urban           Y  \n",
       "..              ...           ...         ...  \n",
       "572             1.0         Rural           Y  \n",
       "573             1.0         Rural           Y  \n",
       "574             1.0         Urban           Y  \n",
       "575             1.0         Urban           Y  \n",
       "576             0.0     Semiurban           N  \n",
       "\n",
       "[577 rows x 13 columns]"
      ]
     },
     "execution_count": 18,
     "metadata": {},
     "output_type": "execute_result"
    }
   ],
   "source": [
    "trd"
   ]
  },
  {
   "cell_type": "markdown",
   "id": "41b850c9",
   "metadata": {},
   "source": [
    "# EDA"
   ]
  },
  {
   "cell_type": "markdown",
   "id": "5e0b39d1",
   "metadata": {},
   "source": [
    "ANOVA"
   ]
  },
  {
   "cell_type": "code",
   "execution_count": 19,
   "id": "dfff1457",
   "metadata": {},
   "outputs": [],
   "source": [
    "def ANOVA(df,cat,con):\n",
    "    from statsmodels.formula.api import ols\n",
    "    from statsmodels.stats.anova import anova_lm\n",
    "    rel = con + \" ~ \" + cat\n",
    "    model = ols(rel,df).fit()\n",
    "    Q = anova_lm(model)\n",
    "    pval = round(Q.iloc[0:1,4][0],4)\n",
    "    return pval"
   ]
  },
  {
   "cell_type": "code",
   "execution_count": 20,
   "id": "dbca2f04",
   "metadata": {},
   "outputs": [
    {
     "data": {
      "text/plain": [
       "0.8943"
      ]
     },
     "execution_count": 20,
     "metadata": {},
     "output_type": "execute_result"
    }
   ],
   "source": [
    "ANOVA(trd,\"Loan_Status\",\"ApplicantIncome\")"
   ]
  },
  {
   "cell_type": "code",
   "execution_count": 21,
   "id": "3f7ed634",
   "metadata": {},
   "outputs": [
    {
     "data": {
      "text/plain": [
       "0.2821"
      ]
     },
     "execution_count": 21,
     "metadata": {},
     "output_type": "execute_result"
    }
   ],
   "source": [
    "ANOVA(trd,\"Loan_Status\",\"CoapplicantIncome\")"
   ]
  },
  {
   "cell_type": "code",
   "execution_count": 22,
   "id": "b0b87295",
   "metadata": {},
   "outputs": [
    {
     "data": {
      "text/plain": [
       "0.3975"
      ]
     },
     "execution_count": 22,
     "metadata": {},
     "output_type": "execute_result"
    }
   ],
   "source": [
    "ANOVA(trd,\"Loan_Status\",\"LoanAmount\")"
   ]
  },
  {
   "cell_type": "code",
   "execution_count": 23,
   "id": "509b25fb",
   "metadata": {},
   "outputs": [
    {
     "data": {
      "text/plain": [
       "0.6636"
      ]
     },
     "execution_count": 23,
     "metadata": {},
     "output_type": "execute_result"
    }
   ],
   "source": [
    "ANOVA(trd,\"Loan_Status\",\"Loan_Amount_Term\")"
   ]
  },
  {
   "cell_type": "code",
   "execution_count": 24,
   "id": "ee7930c4",
   "metadata": {},
   "outputs": [
    {
     "data": {
      "text/plain": [
       "0.0"
      ]
     },
     "execution_count": 24,
     "metadata": {},
     "output_type": "execute_result"
    }
   ],
   "source": [
    "ANOVA(trd,\"Loan_Status\",\"Credit_History\")"
   ]
  },
  {
   "cell_type": "markdown",
   "id": "cf8ae728",
   "metadata": {},
   "source": [
    "Chi square test"
   ]
  },
  {
   "cell_type": "code",
   "execution_count": 25,
   "id": "6161d0bf",
   "metadata": {},
   "outputs": [],
   "source": [
    "def chisquare(cat1,cat2,df):\n",
    "    import pandas as pd\n",
    "    Q = pd.crosstab(df[cat1],df[cat2])\n",
    "    from scipy.stats import chi2_contingency\n",
    "    a,b,c,d = chi2_contingency(Q)\n",
    "    return a"
   ]
  },
  {
   "cell_type": "markdown",
   "id": "1d08e151",
   "metadata": {},
   "source": [
    "Columns having less than 10 uniques are considered categorical columns"
   ]
  },
  {
   "cell_type": "code",
   "execution_count": 26,
   "id": "39b33559",
   "metadata": {},
   "outputs": [],
   "source": [
    "W = trd.nunique()\n",
    "W1 = list(W[W<10].index)\n",
    "W1.remove(\"Loan_Status\")"
   ]
  },
  {
   "cell_type": "code",
   "execution_count": 27,
   "id": "4ca35fa4",
   "metadata": {},
   "outputs": [
    {
     "name": "stdout",
     "output_type": "stream",
     "text": [
      "Loan_Status ~ Gender ---> 0.09\n",
      "Loan_Status ~ Married ---> 4.18\n",
      "Loan_Status ~ Dependents ---> 1.95\n",
      "Loan_Status ~ Education ---> 4.49\n",
      "Loan_Status ~ Self_Employed ---> 0.25\n",
      "Loan_Status ~ Loan_Amount_Term ---> 9.75\n",
      "Loan_Status ~ Credit_History ---> 182.53\n",
      "Loan_Status ~ Property_Area ---> 12.13\n"
     ]
    }
   ],
   "source": [
    "for i in W1:\n",
    "    e = chisquare(i,\"Loan_Status\",trd)\n",
    "    e = round(e,2)\n",
    "    print(\"Loan_Status ~\",i,\"--->\",e)"
   ]
  },
  {
   "cell_type": "markdown",
   "id": "bced5159",
   "metadata": {},
   "source": [
    "# Preprocessing"
   ]
  },
  {
   "cell_type": "code",
   "execution_count": 33,
   "id": "a0336348",
   "metadata": {},
   "outputs": [],
   "source": [
    "X_trd = trd.drop(labels=[\"Loan_ID\",\"Loan_Status\"],axis=1)\n",
    "Y_trd = trd[[\"Loan_Status\"]]\n",
    "\n",
    "cat = []\n",
    "con = []\n",
    "for i in X_trd.columns:\n",
    "    if(X_trd[i].dtypes == \"object\"):\n",
    "        cat.append(i)\n",
    "    else:\n",
    "        con.append(i)\n",
    "\n",
    "from sklearn.preprocessing import MinMaxScaler\n",
    "mm = MinMaxScaler()\n",
    "x1_trd = pd.DataFrame(mm.fit_transform(X_trd[con]),columns=con)\n",
    "x2_trd = pd.get_dummies(X_trd[cat])\n",
    "Xnew_trd = x1_trd.join(x2_trd)"
   ]
  },
  {
   "cell_type": "code",
   "execution_count": 34,
   "id": "0a0f278e",
   "metadata": {},
   "outputs": [],
   "source": [
    "from sklearn.model_selection import train_test_split\n",
    "xtrain,xtest,ytrain,ytest=train_test_split(Xnew_trd,Y_trd,test_size=0.2,random_state=21)"
   ]
  },
  {
   "cell_type": "markdown",
   "id": "ca70e48d",
   "metadata": {},
   "source": [
    "# Logistic"
   ]
  },
  {
   "cell_type": "code",
   "execution_count": 35,
   "id": "0c57d132",
   "metadata": {},
   "outputs": [],
   "source": [
    "from warnings import filterwarnings\n",
    "filterwarnings(\"ignore\")"
   ]
  },
  {
   "cell_type": "code",
   "execution_count": 36,
   "id": "5e30df00",
   "metadata": {},
   "outputs": [],
   "source": [
    "from sklearn.linear_model import LogisticRegression\n",
    "lr = LogisticRegression()\n",
    "model = lr.fit(xtrain,ytrain)\n",
    "tr_pred = model.predict(xtrain)\n",
    "ts_pred = model.predict(xtest)\n",
    "from sklearn.metrics import accuracy_score\n",
    "tr_acc = accuracy_score(ytrain,tr_pred)\n",
    "ts_acc = accuracy_score(ytest,ts_pred)"
   ]
  },
  {
   "cell_type": "code",
   "execution_count": 38,
   "id": "54749350",
   "metadata": {},
   "outputs": [
    {
     "data": {
      "text/plain": [
       "(0.8156182212581344, 0.8448275862068966)"
      ]
     },
     "execution_count": 38,
     "metadata": {},
     "output_type": "execute_result"
    }
   ],
   "source": [
    "tr_acc,ts_acc"
   ]
  },
  {
   "cell_type": "markdown",
   "id": "6506c038",
   "metadata": {},
   "source": [
    "# Tree"
   ]
  },
  {
   "cell_type": "code",
   "execution_count": 39,
   "id": "a1c10bfa",
   "metadata": {},
   "outputs": [],
   "source": [
    "def modeller(mo):\n",
    "    model = mo.fit(xtrain,ytrain)\n",
    "    tr_pred = model.predict(xtrain)\n",
    "    ts_pred = model.predict(xtest)\n",
    "    from sklearn.metrics import accuracy_score\n",
    "    tr_acc = round(accuracy_score(ytrain,tr_pred),2)\n",
    "    ts_acc = round(accuracy_score(ytest,ts_pred),2)\n",
    "    return tr_acc,ts_acc"
   ]
  },
  {
   "cell_type": "code",
   "execution_count": 40,
   "id": "503ccf65",
   "metadata": {},
   "outputs": [
    {
     "data": {
      "text/plain": [
       "(1.0, 0.68)"
      ]
     },
     "execution_count": 40,
     "metadata": {},
     "output_type": "execute_result"
    }
   ],
   "source": [
    "from sklearn.tree import DecisionTreeClassifier\n",
    "dtc = DecisionTreeClassifier(random_state=21)\n",
    "modeller(dtc)"
   ]
  },
  {
   "cell_type": "code",
   "execution_count": 41,
   "id": "39370146",
   "metadata": {},
   "outputs": [
    {
     "name": "stdout",
     "output_type": "stream",
     "text": [
      "2 (0.81, 0.84)\n",
      "3 (0.83, 0.83)\n",
      "4 (0.84, 0.81)\n",
      "5 (0.85, 0.8)\n",
      "6 (0.87, 0.8)\n",
      "7 (0.9, 0.77)\n",
      "8 (0.92, 0.73)\n",
      "9 (0.95, 0.71)\n",
      "10 (0.97, 0.69)\n",
      "11 (0.98, 0.7)\n",
      "12 (0.99, 0.7)\n",
      "13 (1.0, 0.7)\n",
      "14 (1.0, 0.68)\n",
      "15 (1.0, 0.68)\n",
      "16 (1.0, 0.68)\n",
      "17 (1.0, 0.68)\n",
      "18 (1.0, 0.68)\n",
      "19 (1.0, 0.68)\n"
     ]
    }
   ],
   "source": [
    "for i in range(2,20):\n",
    "    dtc = DecisionTreeClassifier(random_state=21,max_depth=i)\n",
    "    print(i,modeller(dtc))"
   ]
  },
  {
   "cell_type": "code",
   "execution_count": 42,
   "id": "f82781bf",
   "metadata": {},
   "outputs": [
    {
     "data": {
      "text/plain": [
       "(0.81, 0.75)"
      ]
     },
     "execution_count": 42,
     "metadata": {},
     "output_type": "execute_result"
    }
   ],
   "source": [
    "from sklearn.neighbors import KNeighborsClassifier\n",
    "knc = KNeighborsClassifier()\n",
    "modeller(knc)"
   ]
  },
  {
   "cell_type": "code",
   "execution_count": 43,
   "id": "4524e62a",
   "metadata": {},
   "outputs": [
    {
     "name": "stdout",
     "output_type": "stream",
     "text": [
      "2 (0.9, 0.69)\n",
      "3 (0.85, 0.75)\n",
      "4 (0.86, 0.72)\n",
      "5 (0.81, 0.75)\n",
      "6 (0.8, 0.72)\n",
      "7 (0.77, 0.7)\n",
      "8 (0.79, 0.71)\n",
      "9 (0.76, 0.73)\n",
      "10 (0.76, 0.72)\n",
      "11 (0.75, 0.74)\n",
      "12 (0.76, 0.74)\n",
      "13 (0.74, 0.75)\n",
      "14 (0.74, 0.76)\n",
      "15 (0.74, 0.77)\n",
      "16 (0.74, 0.76)\n",
      "17 (0.72, 0.77)\n",
      "18 (0.73, 0.76)\n",
      "19 (0.72, 0.77)\n"
     ]
    }
   ],
   "source": [
    "for i in range(2,20):\n",
    "    knc = KNeighborsClassifier(n_neighbors=i)\n",
    "    print(i,modeller(knc))"
   ]
  },
  {
   "cell_type": "markdown",
   "id": "05d99f40",
   "metadata": {},
   "source": [
    "# Train the model with entire data in training set"
   ]
  },
  {
   "cell_type": "code",
   "execution_count": 44,
   "id": "044a7539",
   "metadata": {},
   "outputs": [],
   "source": [
    "dtc = DecisionTreeClassifier(random_state=21,max_depth=3)\n",
    "finmodel = dtc.fit(Xnew_trd,Y_trd)"
   ]
  },
  {
   "cell_type": "markdown",
   "id": "fb0710b2",
   "metadata": {},
   "source": [
    "# Data preparation for testing set"
   ]
  },
  {
   "cell_type": "code",
   "execution_count": 45,
   "id": "ba5ed30f",
   "metadata": {},
   "outputs": [
    {
     "data": {
      "text/plain": [
       "Index(['ApplicantIncome', 'CoapplicantIncome', 'LoanAmount',\n",
       "       'Loan_Amount_Term', 'Credit_History', 'Gender_Female', 'Gender_Male',\n",
       "       'Married_No', 'Married_Yes', 'Dependents_0', 'Dependents_1',\n",
       "       'Dependents_2', 'Dependents_3+', 'Education_Graduate',\n",
       "       'Education_Not Graduate', 'Self_Employed_No', 'Self_Employed_Yes',\n",
       "       'Property_Area_Rural', 'Property_Area_Semiurban',\n",
       "       'Property_Area_Urban'],\n",
       "      dtype='object')"
      ]
     },
     "execution_count": 45,
     "metadata": {},
     "output_type": "execute_result"
    }
   ],
   "source": [
    "xtrain.columns"
   ]
  },
  {
   "cell_type": "code",
   "execution_count": 46,
   "id": "568f5282",
   "metadata": {},
   "outputs": [],
   "source": [
    "X_tsd = tsd.drop(labels=[\"Loan_ID\"],axis=1)\n",
    "\n",
    "cat = []\n",
    "con = []\n",
    "for i in X_tsd.columns:\n",
    "    if(X_tsd[i].dtypes == \"object\"):\n",
    "        cat.append(i)\n",
    "    else:\n",
    "        con.append(i)"
   ]
  },
  {
   "cell_type": "code",
   "execution_count": 47,
   "id": "dfb52c67",
   "metadata": {},
   "outputs": [],
   "source": [
    "X1_tsd = pd.DataFrame(mm.transform(X_tsd[con]),columns=con)\n",
    "X2_tsd = pd.get_dummies(X_tsd[cat])\n",
    "Xnew_tsd = X1_tsd.join(X2_tsd)"
   ]
  },
  {
   "cell_type": "code",
   "execution_count": 48,
   "id": "2dfb4e11",
   "metadata": {},
   "outputs": [],
   "source": [
    "pred_LS = finmodel.predict(Xnew_tsd)"
   ]
  },
  {
   "cell_type": "markdown",
   "id": "00fdcbe2",
   "metadata": {},
   "source": [
    "# Final DF"
   ]
  },
  {
   "cell_type": "code",
   "execution_count": 49,
   "id": "14c71e67",
   "metadata": {},
   "outputs": [],
   "source": [
    "Q = tsd[[\"Loan_ID\"]]\n",
    "Q[\"Loan_Status\"]=pred_LS"
   ]
  },
  {
   "cell_type": "code",
   "execution_count": 53,
   "id": "698d72bc",
   "metadata": {},
   "outputs": [],
   "source": [
    "Q.to_csv(\"C:/Users/lenovo/OneDrive/Desktop/Loan.csv\")"
   ]
  },
  {
   "cell_type": "code",
   "execution_count": 54,
   "id": "06c21b98",
   "metadata": {},
   "outputs": [
    {
     "data": {
      "text/html": [
       "<div>\n",
       "<style scoped>\n",
       "    .dataframe tbody tr th:only-of-type {\n",
       "        vertical-align: middle;\n",
       "    }\n",
       "\n",
       "    .dataframe tbody tr th {\n",
       "        vertical-align: top;\n",
       "    }\n",
       "\n",
       "    .dataframe thead th {\n",
       "        text-align: right;\n",
       "    }\n",
       "</style>\n",
       "<table border=\"1\" class=\"dataframe\">\n",
       "  <thead>\n",
       "    <tr style=\"text-align: right;\">\n",
       "      <th></th>\n",
       "      <th>Loan_ID</th>\n",
       "      <th>Loan_Status</th>\n",
       "    </tr>\n",
       "  </thead>\n",
       "  <tbody>\n",
       "    <tr>\n",
       "      <th>0</th>\n",
       "      <td>LP001015</td>\n",
       "      <td>Y</td>\n",
       "    </tr>\n",
       "    <tr>\n",
       "      <th>1</th>\n",
       "      <td>LP001022</td>\n",
       "      <td>Y</td>\n",
       "    </tr>\n",
       "    <tr>\n",
       "      <th>2</th>\n",
       "      <td>LP001031</td>\n",
       "      <td>Y</td>\n",
       "    </tr>\n",
       "    <tr>\n",
       "      <th>3</th>\n",
       "      <td>LP001035</td>\n",
       "      <td>Y</td>\n",
       "    </tr>\n",
       "    <tr>\n",
       "      <th>4</th>\n",
       "      <td>LP001051</td>\n",
       "      <td>Y</td>\n",
       "    </tr>\n",
       "  </tbody>\n",
       "</table>\n",
       "</div>"
      ],
      "text/plain": [
       "    Loan_ID Loan_Status\n",
       "0  LP001015           Y\n",
       "1  LP001022           Y\n",
       "2  LP001031           Y\n",
       "3  LP001035           Y\n",
       "4  LP001051           Y"
      ]
     },
     "execution_count": 54,
     "metadata": {},
     "output_type": "execute_result"
    }
   ],
   "source": [
    "Q.head()"
   ]
  },
  {
   "cell_type": "markdown",
   "id": "1fd31789",
   "metadata": {},
   "source": [
    "# If customer is not eligible for the input required amount and duration:- What can be amount for the given duration.(Regression)"
   ]
  },
  {
   "cell_type": "code",
   "execution_count": 55,
   "id": "37cbe046",
   "metadata": {},
   "outputs": [],
   "source": [
    "Q['Amt']=tsd.LoanAmount"
   ]
  },
  {
   "cell_type": "code",
   "execution_count": 56,
   "id": "e190b4a2",
   "metadata": {},
   "outputs": [],
   "source": [
    "pred_set = Q[Q.Loan_Status == \"N\"]"
   ]
  },
  {
   "cell_type": "code",
   "execution_count": 57,
   "id": "4c76b259",
   "metadata": {},
   "outputs": [
    {
     "data": {
      "text/html": [
       "<div>\n",
       "<style scoped>\n",
       "    .dataframe tbody tr th:only-of-type {\n",
       "        vertical-align: middle;\n",
       "    }\n",
       "\n",
       "    .dataframe tbody tr th {\n",
       "        vertical-align: top;\n",
       "    }\n",
       "\n",
       "    .dataframe thead th {\n",
       "        text-align: right;\n",
       "    }\n",
       "</style>\n",
       "<table border=\"1\" class=\"dataframe\">\n",
       "  <thead>\n",
       "    <tr style=\"text-align: right;\">\n",
       "      <th></th>\n",
       "      <th>Loan_ID</th>\n",
       "      <th>Loan_Status</th>\n",
       "      <th>Amt</th>\n",
       "    </tr>\n",
       "  </thead>\n",
       "  <tbody>\n",
       "    <tr>\n",
       "      <th>7</th>\n",
       "      <td>LP001056</td>\n",
       "      <td>N</td>\n",
       "      <td>147.0</td>\n",
       "    </tr>\n",
       "    <tr>\n",
       "      <th>13</th>\n",
       "      <td>LP001094</td>\n",
       "      <td>N</td>\n",
       "      <td>166.0</td>\n",
       "    </tr>\n",
       "    <tr>\n",
       "      <th>35</th>\n",
       "      <td>LP001203</td>\n",
       "      <td>N</td>\n",
       "      <td>176.0</td>\n",
       "    </tr>\n",
       "    <tr>\n",
       "      <th>55</th>\n",
       "      <td>LP001313</td>\n",
       "      <td>N</td>\n",
       "      <td>130.0</td>\n",
       "    </tr>\n",
       "    <tr>\n",
       "      <th>58</th>\n",
       "      <td>LP001323</td>\n",
       "      <td>N</td>\n",
       "      <td>176.0</td>\n",
       "    </tr>\n",
       "    <tr>\n",
       "      <th>...</th>\n",
       "      <td>...</td>\n",
       "      <td>...</td>\n",
       "      <td>...</td>\n",
       "    </tr>\n",
       "    <tr>\n",
       "      <th>317</th>\n",
       "      <td>LP002774</td>\n",
       "      <td>N</td>\n",
       "      <td>67.0</td>\n",
       "    </tr>\n",
       "    <tr>\n",
       "      <th>325</th>\n",
       "      <td>LP002802</td>\n",
       "      <td>N</td>\n",
       "      <td>95.0</td>\n",
       "    </tr>\n",
       "    <tr>\n",
       "      <th>339</th>\n",
       "      <td>LP002858</td>\n",
       "      <td>N</td>\n",
       "      <td>162.0</td>\n",
       "    </tr>\n",
       "    <tr>\n",
       "      <th>346</th>\n",
       "      <td>LP002879</td>\n",
       "      <td>N</td>\n",
       "      <td>133.0</td>\n",
       "    </tr>\n",
       "    <tr>\n",
       "      <th>354</th>\n",
       "      <td>LP002921</td>\n",
       "      <td>N</td>\n",
       "      <td>158.0</td>\n",
       "    </tr>\n",
       "  </tbody>\n",
       "</table>\n",
       "<p>61 rows × 3 columns</p>\n",
       "</div>"
      ],
      "text/plain": [
       "      Loan_ID Loan_Status    Amt\n",
       "7    LP001056           N  147.0\n",
       "13   LP001094           N  166.0\n",
       "35   LP001203           N  176.0\n",
       "55   LP001313           N  130.0\n",
       "58   LP001323           N  176.0\n",
       "..        ...         ...    ...\n",
       "317  LP002774           N   67.0\n",
       "325  LP002802           N   95.0\n",
       "339  LP002858           N  162.0\n",
       "346  LP002879           N  133.0\n",
       "354  LP002921           N  158.0\n",
       "\n",
       "[61 rows x 3 columns]"
      ]
     },
     "execution_count": 57,
     "metadata": {},
     "output_type": "execute_result"
    }
   ],
   "source": [
    "pred_set"
   ]
  },
  {
   "cell_type": "markdown",
   "id": "df994f92",
   "metadata": {},
   "source": [
    "# Data Preparation"
   ]
  },
  {
   "cell_type": "code",
   "execution_count": 58,
   "id": "85729461",
   "metadata": {},
   "outputs": [],
   "source": [
    "X_trd = trd.drop(labels=[\"Loan_ID\",\"LoanAmount\"],axis=1)\n",
    "Y_trd = trd[[\"LoanAmount\"]]\n",
    "\n",
    "cat = []\n",
    "con = []\n",
    "for i in X_trd.columns:\n",
    "    if(X_trd[i].dtypes == \"object\"):\n",
    "        cat.append(i)\n",
    "    else:\n",
    "        con.append(i)\n",
    "\n",
    "from sklearn.preprocessing import MinMaxScaler\n",
    "mm = MinMaxScaler()\n",
    "x1_trd = pd.DataFrame(mm.fit_transform(X_trd[con]),columns=con)\n",
    "x2_trd = pd.get_dummies(X_trd[cat])\n",
    "Xnew_trd = x1_trd.join(x2_trd)"
   ]
  },
  {
   "cell_type": "code",
   "execution_count": 59,
   "id": "c645dafb",
   "metadata": {},
   "outputs": [
    {
     "data": {
      "text/html": [
       "<div>\n",
       "<style scoped>\n",
       "    .dataframe tbody tr th:only-of-type {\n",
       "        vertical-align: middle;\n",
       "    }\n",
       "\n",
       "    .dataframe tbody tr th {\n",
       "        vertical-align: top;\n",
       "    }\n",
       "\n",
       "    .dataframe thead th {\n",
       "        text-align: right;\n",
       "    }\n",
       "</style>\n",
       "<table border=\"1\" class=\"dataframe\">\n",
       "  <thead>\n",
       "    <tr style=\"text-align: right;\">\n",
       "      <th></th>\n",
       "      <th>ApplicantIncome</th>\n",
       "      <th>CoapplicantIncome</th>\n",
       "      <th>Loan_Amount_Term</th>\n",
       "      <th>Credit_History</th>\n",
       "      <th>Gender_Female</th>\n",
       "      <th>Gender_Male</th>\n",
       "      <th>Married_No</th>\n",
       "      <th>Married_Yes</th>\n",
       "      <th>Dependents_0</th>\n",
       "      <th>Dependents_1</th>\n",
       "      <th>...</th>\n",
       "      <th>Dependents_3+</th>\n",
       "      <th>Education_Graduate</th>\n",
       "      <th>Education_Not Graduate</th>\n",
       "      <th>Self_Employed_No</th>\n",
       "      <th>Self_Employed_Yes</th>\n",
       "      <th>Property_Area_Rural</th>\n",
       "      <th>Property_Area_Semiurban</th>\n",
       "      <th>Property_Area_Urban</th>\n",
       "      <th>Loan_Status_N</th>\n",
       "      <th>Loan_Status_Y</th>\n",
       "    </tr>\n",
       "  </thead>\n",
       "  <tbody>\n",
       "    <tr>\n",
       "      <th>0</th>\n",
       "      <td>0.277770</td>\n",
       "      <td>0.000000</td>\n",
       "      <td>0.6</td>\n",
       "      <td>1.0</td>\n",
       "      <td>0</td>\n",
       "      <td>1</td>\n",
       "      <td>1</td>\n",
       "      <td>0</td>\n",
       "      <td>1</td>\n",
       "      <td>0</td>\n",
       "      <td>...</td>\n",
       "      <td>0</td>\n",
       "      <td>1</td>\n",
       "      <td>0</td>\n",
       "      <td>1</td>\n",
       "      <td>0</td>\n",
       "      <td>0</td>\n",
       "      <td>0</td>\n",
       "      <td>1</td>\n",
       "      <td>0</td>\n",
       "      <td>1</td>\n",
       "    </tr>\n",
       "    <tr>\n",
       "      <th>1</th>\n",
       "      <td>0.256155</td>\n",
       "      <td>0.167929</td>\n",
       "      <td>0.6</td>\n",
       "      <td>1.0</td>\n",
       "      <td>0</td>\n",
       "      <td>1</td>\n",
       "      <td>0</td>\n",
       "      <td>1</td>\n",
       "      <td>0</td>\n",
       "      <td>1</td>\n",
       "      <td>...</td>\n",
       "      <td>0</td>\n",
       "      <td>1</td>\n",
       "      <td>0</td>\n",
       "      <td>1</td>\n",
       "      <td>0</td>\n",
       "      <td>1</td>\n",
       "      <td>0</td>\n",
       "      <td>0</td>\n",
       "      <td>1</td>\n",
       "      <td>0</td>\n",
       "    </tr>\n",
       "    <tr>\n",
       "      <th>2</th>\n",
       "      <td>0.138909</td>\n",
       "      <td>0.000000</td>\n",
       "      <td>0.6</td>\n",
       "      <td>1.0</td>\n",
       "      <td>0</td>\n",
       "      <td>1</td>\n",
       "      <td>0</td>\n",
       "      <td>1</td>\n",
       "      <td>1</td>\n",
       "      <td>0</td>\n",
       "      <td>...</td>\n",
       "      <td>0</td>\n",
       "      <td>1</td>\n",
       "      <td>0</td>\n",
       "      <td>0</td>\n",
       "      <td>1</td>\n",
       "      <td>0</td>\n",
       "      <td>0</td>\n",
       "      <td>1</td>\n",
       "      <td>0</td>\n",
       "      <td>1</td>\n",
       "    </tr>\n",
       "    <tr>\n",
       "      <th>3</th>\n",
       "      <td>0.118585</td>\n",
       "      <td>0.262584</td>\n",
       "      <td>0.6</td>\n",
       "      <td>1.0</td>\n",
       "      <td>0</td>\n",
       "      <td>1</td>\n",
       "      <td>0</td>\n",
       "      <td>1</td>\n",
       "      <td>1</td>\n",
       "      <td>0</td>\n",
       "      <td>...</td>\n",
       "      <td>0</td>\n",
       "      <td>0</td>\n",
       "      <td>1</td>\n",
       "      <td>1</td>\n",
       "      <td>0</td>\n",
       "      <td>0</td>\n",
       "      <td>0</td>\n",
       "      <td>1</td>\n",
       "      <td>0</td>\n",
       "      <td>1</td>\n",
       "    </tr>\n",
       "    <tr>\n",
       "      <th>4</th>\n",
       "      <td>0.285129</td>\n",
       "      <td>0.000000</td>\n",
       "      <td>0.6</td>\n",
       "      <td>1.0</td>\n",
       "      <td>0</td>\n",
       "      <td>1</td>\n",
       "      <td>1</td>\n",
       "      <td>0</td>\n",
       "      <td>1</td>\n",
       "      <td>0</td>\n",
       "      <td>...</td>\n",
       "      <td>0</td>\n",
       "      <td>1</td>\n",
       "      <td>0</td>\n",
       "      <td>1</td>\n",
       "      <td>0</td>\n",
       "      <td>0</td>\n",
       "      <td>0</td>\n",
       "      <td>1</td>\n",
       "      <td>0</td>\n",
       "      <td>1</td>\n",
       "    </tr>\n",
       "  </tbody>\n",
       "</table>\n",
       "<p>5 rows × 21 columns</p>\n",
       "</div>"
      ],
      "text/plain": [
       "   ApplicantIncome  CoapplicantIncome  Loan_Amount_Term  Credit_History  \\\n",
       "0         0.277770           0.000000               0.6             1.0   \n",
       "1         0.256155           0.167929               0.6             1.0   \n",
       "2         0.138909           0.000000               0.6             1.0   \n",
       "3         0.118585           0.262584               0.6             1.0   \n",
       "4         0.285129           0.000000               0.6             1.0   \n",
       "\n",
       "   Gender_Female  Gender_Male  Married_No  Married_Yes  Dependents_0  \\\n",
       "0              0            1           1            0             1   \n",
       "1              0            1           0            1             0   \n",
       "2              0            1           0            1             1   \n",
       "3              0            1           0            1             1   \n",
       "4              0            1           1            0             1   \n",
       "\n",
       "   Dependents_1  ...  Dependents_3+  Education_Graduate  \\\n",
       "0             0  ...              0                   1   \n",
       "1             1  ...              0                   1   \n",
       "2             0  ...              0                   1   \n",
       "3             0  ...              0                   0   \n",
       "4             0  ...              0                   1   \n",
       "\n",
       "   Education_Not Graduate  Self_Employed_No  Self_Employed_Yes  \\\n",
       "0                       0                 1                  0   \n",
       "1                       0                 1                  0   \n",
       "2                       0                 0                  1   \n",
       "3                       1                 1                  0   \n",
       "4                       0                 1                  0   \n",
       "\n",
       "   Property_Area_Rural  Property_Area_Semiurban  Property_Area_Urban  \\\n",
       "0                    0                        0                    1   \n",
       "1                    1                        0                    0   \n",
       "2                    0                        0                    1   \n",
       "3                    0                        0                    1   \n",
       "4                    0                        0                    1   \n",
       "\n",
       "   Loan_Status_N  Loan_Status_Y  \n",
       "0              0              1  \n",
       "1              1              0  \n",
       "2              0              1  \n",
       "3              0              1  \n",
       "4              0              1  \n",
       "\n",
       "[5 rows x 21 columns]"
      ]
     },
     "execution_count": 59,
     "metadata": {},
     "output_type": "execute_result"
    }
   ],
   "source": [
    "Xnew_trd.head()"
   ]
  },
  {
   "cell_type": "code",
   "execution_count": 60,
   "id": "96872c58",
   "metadata": {},
   "outputs": [
    {
     "data": {
      "text/html": [
       "<div>\n",
       "<style scoped>\n",
       "    .dataframe tbody tr th:only-of-type {\n",
       "        vertical-align: middle;\n",
       "    }\n",
       "\n",
       "    .dataframe tbody tr th {\n",
       "        vertical-align: top;\n",
       "    }\n",
       "\n",
       "    .dataframe thead th {\n",
       "        text-align: right;\n",
       "    }\n",
       "</style>\n",
       "<table border=\"1\" class=\"dataframe\">\n",
       "  <thead>\n",
       "    <tr style=\"text-align: right;\">\n",
       "      <th></th>\n",
       "      <th>LoanAmount</th>\n",
       "    </tr>\n",
       "  </thead>\n",
       "  <tbody>\n",
       "    <tr>\n",
       "      <th>0</th>\n",
       "      <td>146.412162</td>\n",
       "    </tr>\n",
       "    <tr>\n",
       "      <th>1</th>\n",
       "      <td>128.000000</td>\n",
       "    </tr>\n",
       "    <tr>\n",
       "      <th>2</th>\n",
       "      <td>66.000000</td>\n",
       "    </tr>\n",
       "    <tr>\n",
       "      <th>3</th>\n",
       "      <td>120.000000</td>\n",
       "    </tr>\n",
       "    <tr>\n",
       "      <th>4</th>\n",
       "      <td>141.000000</td>\n",
       "    </tr>\n",
       "  </tbody>\n",
       "</table>\n",
       "</div>"
      ],
      "text/plain": [
       "   LoanAmount\n",
       "0  146.412162\n",
       "1  128.000000\n",
       "2   66.000000\n",
       "3  120.000000\n",
       "4  141.000000"
      ]
     },
     "execution_count": 60,
     "metadata": {},
     "output_type": "execute_result"
    }
   ],
   "source": [
    "Y_trd.head()"
   ]
  },
  {
   "cell_type": "code",
   "execution_count": 61,
   "id": "e191539e",
   "metadata": {},
   "outputs": [],
   "source": [
    "from sklearn.model_selection import train_test_split\n",
    "xtrain,xtest,ytrain,ytest=train_test_split(Xnew_trd,Y_trd,test_size=0.2,random_state=21)"
   ]
  },
  {
   "cell_type": "markdown",
   "id": "78507067",
   "metadata": {},
   "source": [
    "# Model"
   ]
  },
  {
   "cell_type": "code",
   "execution_count": 62,
   "id": "d10f4fae",
   "metadata": {},
   "outputs": [],
   "source": [
    "def modeller(mo):\n",
    "    model = mo.fit(xtrain,ytrain)\n",
    "    tr_pred = model.predict(xtrain)\n",
    "    ts_pred = model.predict(xtest)\n",
    "    from sklearn.metrics import mean_squared_error\n",
    "    tr_err = round(mean_squared_error(ytrain,tr_pred),2)\n",
    "    ts_err = round(mean_squared_error(ytest,ts_pred),2)\n",
    "    return tr_err,ts_err"
   ]
  },
  {
   "cell_type": "markdown",
   "id": "0c6451e5",
   "metadata": {},
   "source": [
    "# OLS"
   ]
  },
  {
   "cell_type": "code",
   "execution_count": 63,
   "id": "53d6b7c8",
   "metadata": {},
   "outputs": [
    {
     "data": {
      "text/html": [
       "<table class=\"simpletable\">\n",
       "<caption>OLS Regression Results</caption>\n",
       "<tr>\n",
       "  <th>Dep. Variable:</th>       <td>LoanAmount</td>    <th>  R-squared:         </th> <td>   0.417</td>\n",
       "</tr>\n",
       "<tr>\n",
       "  <th>Model:</th>                   <td>OLS</td>       <th>  Adj. R-squared:    </th> <td>   0.398</td>\n",
       "</tr>\n",
       "<tr>\n",
       "  <th>Method:</th>             <td>Least Squares</td>  <th>  F-statistic:       </th> <td>   22.76</td>\n",
       "</tr>\n",
       "<tr>\n",
       "  <th>Date:</th>             <td>Mon, 01 May 2023</td> <th>  Prob (F-statistic):</th> <td>6.42e-44</td>\n",
       "</tr>\n",
       "<tr>\n",
       "  <th>Time:</th>                 <td>19:04:54</td>     <th>  Log-Likelihood:    </th> <td> -2392.4</td>\n",
       "</tr>\n",
       "<tr>\n",
       "  <th>No. Observations:</th>      <td>   461</td>      <th>  AIC:               </th> <td>   4815.</td>\n",
       "</tr>\n",
       "<tr>\n",
       "  <th>Df Residuals:</th>          <td>   446</td>      <th>  BIC:               </th> <td>   4877.</td>\n",
       "</tr>\n",
       "<tr>\n",
       "  <th>Df Model:</th>              <td>    14</td>      <th>                     </th>     <td> </td>   \n",
       "</tr>\n",
       "<tr>\n",
       "  <th>Covariance Type:</th>      <td>nonrobust</td>    <th>                     </th>     <td> </td>   \n",
       "</tr>\n",
       "</table>\n",
       "<table class=\"simpletable\">\n",
       "<tr>\n",
       "             <td></td>                <th>coef</th>     <th>std err</th>      <th>t</th>      <th>P>|t|</th>  <th>[0.025</th>    <th>0.975]</th>  \n",
       "</tr>\n",
       "<tr>\n",
       "  <th>const</th>                   <td>   13.9879</td> <td>    2.534</td> <td>    5.520</td> <td> 0.000</td> <td>    9.008</td> <td>   18.968</td>\n",
       "</tr>\n",
       "<tr>\n",
       "  <th>ApplicantIncome</th>         <td>  200.1983</td> <td>   14.762</td> <td>   13.561</td> <td> 0.000</td> <td>  171.186</td> <td>  229.211</td>\n",
       "</tr>\n",
       "<tr>\n",
       "  <th>CoapplicantIncome</th>       <td>  132.7207</td> <td>   12.243</td> <td>   10.841</td> <td> 0.000</td> <td>  108.660</td> <td>  156.781</td>\n",
       "</tr>\n",
       "<tr>\n",
       "  <th>Loan_Amount_Term</th>        <td>   19.8254</td> <td>   12.588</td> <td>    1.575</td> <td> 0.116</td> <td>   -4.913</td> <td>   44.564</td>\n",
       "</tr>\n",
       "<tr>\n",
       "  <th>Credit_History</th>          <td>    7.3222</td> <td>    6.990</td> <td>    1.048</td> <td> 0.295</td> <td>   -6.415</td> <td>   21.060</td>\n",
       "</tr>\n",
       "<tr>\n",
       "  <th>Gender_Female</th>           <td>    3.1186</td> <td>    3.360</td> <td>    0.928</td> <td> 0.354</td> <td>   -3.485</td> <td>    9.722</td>\n",
       "</tr>\n",
       "<tr>\n",
       "  <th>Gender_Male</th>             <td>   10.8692</td> <td>    2.987</td> <td>    3.639</td> <td> 0.000</td> <td>    5.000</td> <td>   16.739</td>\n",
       "</tr>\n",
       "<tr>\n",
       "  <th>Married_No</th>              <td>    5.7381</td> <td>    2.912</td> <td>    1.970</td> <td> 0.049</td> <td>    0.014</td> <td>   11.462</td>\n",
       "</tr>\n",
       "<tr>\n",
       "  <th>Married_Yes</th>             <td>    8.2498</td> <td>    2.740</td> <td>    3.010</td> <td> 0.003</td> <td>    2.864</td> <td>   13.636</td>\n",
       "</tr>\n",
       "<tr>\n",
       "  <th>Dependents_0</th>            <td>   -3.9844</td> <td>    3.483</td> <td>   -1.144</td> <td> 0.253</td> <td>  -10.829</td> <td>    2.860</td>\n",
       "</tr>\n",
       "<tr>\n",
       "  <th>Dependents_1</th>            <td>    3.8337</td> <td>    4.570</td> <td>    0.839</td> <td> 0.402</td> <td>   -5.148</td> <td>   12.815</td>\n",
       "</tr>\n",
       "<tr>\n",
       "  <th>Dependents_2</th>            <td>    1.2483</td> <td>    4.572</td> <td>    0.273</td> <td> 0.785</td> <td>   -7.736</td> <td>   10.233</td>\n",
       "</tr>\n",
       "<tr>\n",
       "  <th>Dependents_3+</th>           <td>   12.8903</td> <td>    5.764</td> <td>    2.236</td> <td> 0.026</td> <td>    1.562</td> <td>   24.218</td>\n",
       "</tr>\n",
       "<tr>\n",
       "  <th>Education_Graduate</th>      <td>   10.9738</td> <td>    2.902</td> <td>    3.781</td> <td> 0.000</td> <td>    5.270</td> <td>   16.677</td>\n",
       "</tr>\n",
       "<tr>\n",
       "  <th>Education_Not Graduate</th>  <td>    3.0141</td> <td>    2.811</td> <td>    1.072</td> <td> 0.284</td> <td>   -2.510</td> <td>    8.538</td>\n",
       "</tr>\n",
       "<tr>\n",
       "  <th>Self_Employed_No</th>        <td>    4.8488</td> <td>    3.099</td> <td>    1.565</td> <td> 0.118</td> <td>   -1.241</td> <td>   10.938</td>\n",
       "</tr>\n",
       "<tr>\n",
       "  <th>Self_Employed_Yes</th>       <td>    9.1390</td> <td>    3.736</td> <td>    2.446</td> <td> 0.015</td> <td>    1.796</td> <td>   16.482</td>\n",
       "</tr>\n",
       "<tr>\n",
       "  <th>Property_Area_Rural</th>     <td>    3.5874</td> <td>    3.278</td> <td>    1.094</td> <td> 0.274</td> <td>   -2.856</td> <td>   10.030</td>\n",
       "</tr>\n",
       "<tr>\n",
       "  <th>Property_Area_Semiurban</th> <td>    8.5047</td> <td>    2.987</td> <td>    2.847</td> <td> 0.005</td> <td>    2.634</td> <td>   14.375</td>\n",
       "</tr>\n",
       "<tr>\n",
       "  <th>Property_Area_Urban</th>     <td>    1.8958</td> <td>    3.073</td> <td>    0.617</td> <td> 0.538</td> <td>   -4.145</td> <td>    7.936</td>\n",
       "</tr>\n",
       "<tr>\n",
       "  <th>Loan_Status_N</th>           <td>   12.6528</td> <td>    2.777</td> <td>    4.556</td> <td> 0.000</td> <td>    7.195</td> <td>   18.110</td>\n",
       "</tr>\n",
       "<tr>\n",
       "  <th>Loan_Status_Y</th>           <td>    1.3351</td> <td>    3.211</td> <td>    0.416</td> <td> 0.678</td> <td>   -4.975</td> <td>    7.645</td>\n",
       "</tr>\n",
       "</table>\n",
       "<table class=\"simpletable\">\n",
       "<tr>\n",
       "  <th>Omnibus:</th>       <td>30.410</td> <th>  Durbin-Watson:     </th> <td>   1.948</td>\n",
       "</tr>\n",
       "<tr>\n",
       "  <th>Prob(Omnibus):</th> <td> 0.000</td> <th>  Jarque-Bera (JB):  </th> <td> 106.592</td>\n",
       "</tr>\n",
       "<tr>\n",
       "  <th>Skew:</th>          <td> 0.111</td> <th>  Prob(JB):          </th> <td>7.14e-24</td>\n",
       "</tr>\n",
       "<tr>\n",
       "  <th>Kurtosis:</th>      <td> 5.345</td> <th>  Cond. No.          </th> <td>3.79e+16</td>\n",
       "</tr>\n",
       "</table><br/><br/>Notes:<br/>[1] Standard Errors assume that the covariance matrix of the errors is correctly specified.<br/>[2] The smallest eigenvalue is 1.97e-30. This might indicate that there are<br/>strong multicollinearity problems or that the design matrix is singular."
      ],
      "text/plain": [
       "<class 'statsmodels.iolib.summary.Summary'>\n",
       "\"\"\"\n",
       "                            OLS Regression Results                            \n",
       "==============================================================================\n",
       "Dep. Variable:             LoanAmount   R-squared:                       0.417\n",
       "Model:                            OLS   Adj. R-squared:                  0.398\n",
       "Method:                 Least Squares   F-statistic:                     22.76\n",
       "Date:                Mon, 01 May 2023   Prob (F-statistic):           6.42e-44\n",
       "Time:                        19:04:54   Log-Likelihood:                -2392.4\n",
       "No. Observations:                 461   AIC:                             4815.\n",
       "Df Residuals:                     446   BIC:                             4877.\n",
       "Df Model:                          14                                         \n",
       "Covariance Type:            nonrobust                                         \n",
       "===========================================================================================\n",
       "                              coef    std err          t      P>|t|      [0.025      0.975]\n",
       "-------------------------------------------------------------------------------------------\n",
       "const                      13.9879      2.534      5.520      0.000       9.008      18.968\n",
       "ApplicantIncome           200.1983     14.762     13.561      0.000     171.186     229.211\n",
       "CoapplicantIncome         132.7207     12.243     10.841      0.000     108.660     156.781\n",
       "Loan_Amount_Term           19.8254     12.588      1.575      0.116      -4.913      44.564\n",
       "Credit_History              7.3222      6.990      1.048      0.295      -6.415      21.060\n",
       "Gender_Female               3.1186      3.360      0.928      0.354      -3.485       9.722\n",
       "Gender_Male                10.8692      2.987      3.639      0.000       5.000      16.739\n",
       "Married_No                  5.7381      2.912      1.970      0.049       0.014      11.462\n",
       "Married_Yes                 8.2498      2.740      3.010      0.003       2.864      13.636\n",
       "Dependents_0               -3.9844      3.483     -1.144      0.253     -10.829       2.860\n",
       "Dependents_1                3.8337      4.570      0.839      0.402      -5.148      12.815\n",
       "Dependents_2                1.2483      4.572      0.273      0.785      -7.736      10.233\n",
       "Dependents_3+              12.8903      5.764      2.236      0.026       1.562      24.218\n",
       "Education_Graduate         10.9738      2.902      3.781      0.000       5.270      16.677\n",
       "Education_Not Graduate      3.0141      2.811      1.072      0.284      -2.510       8.538\n",
       "Self_Employed_No            4.8488      3.099      1.565      0.118      -1.241      10.938\n",
       "Self_Employed_Yes           9.1390      3.736      2.446      0.015       1.796      16.482\n",
       "Property_Area_Rural         3.5874      3.278      1.094      0.274      -2.856      10.030\n",
       "Property_Area_Semiurban     8.5047      2.987      2.847      0.005       2.634      14.375\n",
       "Property_Area_Urban         1.8958      3.073      0.617      0.538      -4.145       7.936\n",
       "Loan_Status_N              12.6528      2.777      4.556      0.000       7.195      18.110\n",
       "Loan_Status_Y               1.3351      3.211      0.416      0.678      -4.975       7.645\n",
       "==============================================================================\n",
       "Omnibus:                       30.410   Durbin-Watson:                   1.948\n",
       "Prob(Omnibus):                  0.000   Jarque-Bera (JB):              106.592\n",
       "Skew:                           0.111   Prob(JB):                     7.14e-24\n",
       "Kurtosis:                       5.345   Cond. No.                     3.79e+16\n",
       "==============================================================================\n",
       "\n",
       "Notes:\n",
       "[1] Standard Errors assume that the covariance matrix of the errors is correctly specified.\n",
       "[2] The smallest eigenvalue is 1.97e-30. This might indicate that there are\n",
       "strong multicollinearity problems or that the design matrix is singular.\n",
       "\"\"\""
      ]
     },
     "execution_count": 63,
     "metadata": {},
     "output_type": "execute_result"
    }
   ],
   "source": [
    "from statsmodels.api import add_constant,OLS\n",
    "xconst = add_constant(xtrain)\n",
    "ols = OLS(ytrain,xconst).fit()\n",
    "ols.summary()"
   ]
  },
  {
   "cell_type": "code",
   "execution_count": 64,
   "id": "aa2a10bc",
   "metadata": {},
   "outputs": [
    {
     "data": {
      "text/plain": [
       "0.39835688550313686"
      ]
     },
     "execution_count": 64,
     "metadata": {},
     "output_type": "execute_result"
    }
   ],
   "source": [
    "ols.rsquared_adj"
   ]
  },
  {
   "cell_type": "code",
   "execution_count": 65,
   "id": "314f5732",
   "metadata": {},
   "outputs": [],
   "source": [
    "col = ols.pvalues.sort_values().index[-1]"
   ]
  },
  {
   "cell_type": "code",
   "execution_count": 66,
   "id": "2b5e3c04",
   "metadata": {},
   "outputs": [
    {
     "name": "stdout",
     "output_type": "stream",
     "text": [
      "0.39835688550313697 Dependents_1\n"
     ]
    }
   ],
   "source": [
    "Xnew_trd = Xnew_trd.drop(labels=[col],axis=1)\n",
    "from sklearn.model_selection import train_test_split\n",
    "xtrain,xtest,ytrain,ytest=train_test_split(Xnew_trd,Y_trd,test_size=0.2,random_state=21)\n",
    "from statsmodels.api import add_constant,OLS\n",
    "xconst = add_constant(xtrain)\n",
    "ols = OLS(ytrain,xconst).fit()\n",
    "col = ols.pvalues.sort_values().index[-1]\n",
    "print(ols.rsquared_adj,col)"
   ]
  },
  {
   "cell_type": "code",
   "execution_count": 67,
   "id": "c42bb216",
   "metadata": {},
   "outputs": [
    {
     "data": {
      "text/plain": [
       "(1885.81, 1956.55)"
      ]
     },
     "execution_count": 67,
     "metadata": {},
     "output_type": "execute_result"
    }
   ],
   "source": [
    "from sklearn.linear_model import LinearRegression\n",
    "lm = LinearRegression()\n",
    "modeller(lm)"
   ]
  },
  {
   "cell_type": "code",
   "execution_count": 68,
   "id": "d80312e8",
   "metadata": {},
   "outputs": [
    {
     "data": {
      "text/plain": [
       "(1891.73, 2555.54)"
      ]
     },
     "execution_count": 68,
     "metadata": {},
     "output_type": "execute_result"
    }
   ],
   "source": [
    "from sklearn.tree import DecisionTreeRegressor\n",
    "dtr = DecisionTreeRegressor(random_state=21,max_depth=2)\n",
    "modeller(dtr)"
   ]
  },
  {
   "cell_type": "code",
   "execution_count": 69,
   "id": "09ac192a",
   "metadata": {},
   "outputs": [],
   "source": [
    "tr = []\n",
    "ts = []\n",
    "for i in range(2,20):\n",
    "    dtr = DecisionTreeRegressor(random_state=21,max_depth=i)\n",
    "    tre,tse = modeller(dtr)\n",
    "    tr.append(tre)\n",
    "    ts.append(tse)"
   ]
  },
  {
   "cell_type": "code",
   "execution_count": 70,
   "id": "bd1fd3f0",
   "metadata": {},
   "outputs": [
    {
     "data": {
      "text/plain": [
       "[<matplotlib.lines.Line2D at 0x21c7eec3b80>]"
      ]
     },
     "execution_count": 70,
     "metadata": {},
     "output_type": "execute_result"
    },
    {
     "data": {
      "image/png": "[encoded data removed]",
      "text/plain": [
       "<Figure size 432x288 with 1 Axes>"
      ]
     },
     "metadata": {
      "needs_background": "light"
     },
     "output_type": "display_data"
    }
   ],
   "source": [
    "import matplotlib.pyplot as plt\n",
    "plt.plot(tr)\n",
    "plt.plot(ts)"
   ]
  },
  {
   "cell_type": "code",
   "execution_count": 71,
   "id": "d273495d",
   "metadata": {},
   "outputs": [
    {
     "data": {
      "text/plain": [
       "(1891.73, 2555.54)"
      ]
     },
     "execution_count": 71,
     "metadata": {},
     "output_type": "execute_result"
    }
   ],
   "source": [
    "dtr = DecisionTreeRegressor(random_state=21,max_depth=2)\n",
    "modeller(dtr)"
   ]
  },
  {
   "cell_type": "code",
   "execution_count": 72,
   "id": "f1ffb286",
   "metadata": {},
   "outputs": [
    {
     "data": {
      "text/plain": [
       "(1722.79, 2220.47)"
      ]
     },
     "execution_count": 72,
     "metadata": {},
     "output_type": "execute_result"
    }
   ],
   "source": [
    "from sklearn.ensemble import RandomForestRegressor\n",
    "rfr = RandomForestRegressor(random_state=21,max_depth=2)\n",
    "modeller(rfr)"
   ]
  },
  {
   "cell_type": "markdown",
   "id": "f77f86fd",
   "metadata": {},
   "source": [
    "# Final Prediction"
   ]
  },
  {
   "cell_type": "code",
   "execution_count": 73,
   "id": "7e64126a",
   "metadata": {},
   "outputs": [],
   "source": [
    "tsd['Loan_Status']=pred_LS"
   ]
  },
  {
   "cell_type": "code",
   "execution_count": 74,
   "id": "baedf259",
   "metadata": {},
   "outputs": [],
   "source": [
    "tsdnew = tsd.drop(labels=[\"Loan_ID\",\"LoanAmount\"],axis=1)"
   ]
  },
  {
   "cell_type": "code",
   "execution_count": 75,
   "id": "503ce4ea",
   "metadata": {},
   "outputs": [],
   "source": [
    "cat = []\n",
    "con = []\n",
    "for i in X_trd.columns:\n",
    "    if(X_trd[i].dtypes == \"object\"):\n",
    "        cat.append(i)\n",
    "    else:\n",
    "        con.append(i)\n",
    "\n",
    "from sklearn.preprocessing import MinMaxScaler\n",
    "mm = MinMaxScaler()\n",
    "x1_trd = pd.DataFrame(mm.fit_transform(X_trd[con]),columns=con)\n",
    "x2_trd = pd.get_dummies(X_trd[cat])\n",
    "Xnew_trd = x1_trd.join(x2_trd)"
   ]
  },
  {
   "cell_type": "code",
   "execution_count": 76,
   "id": "c2d6d0d7",
   "metadata": {},
   "outputs": [],
   "source": [
    "from sklearn.linear_model import LinearRegression\n",
    "lm = LinearRegression()\n",
    "model = lm.fit(Xnew_trd,Y_trd)"
   ]
  },
  {
   "cell_type": "code",
   "execution_count": 77,
   "id": "ab18daa2",
   "metadata": {},
   "outputs": [],
   "source": [
    "cat = []\n",
    "con = []\n",
    "for i in tsdnew.columns:\n",
    "    if(tsdnew[i].dtypes == \"object\"):\n",
    "        cat.append(i)\n",
    "    else:\n",
    "        con.append(i)\n",
    "\n",
    "from sklearn.preprocessing import MinMaxScaler\n",
    "mm = MinMaxScaler()\n",
    "x1_trd = pd.DataFrame(mm.fit_transform(tsdnew[con]),columns=con)\n",
    "x2_trd = pd.get_dummies(tsdnew[cat])\n",
    "Xnew_tsd = x1_trd.join(x2_trd)"
   ]
  },
  {
   "cell_type": "code",
   "execution_count": 78,
   "id": "97cf9617",
   "metadata": {},
   "outputs": [
    {
     "data": {
      "text/plain": [
       "21"
      ]
     },
     "execution_count": 78,
     "metadata": {},
     "output_type": "execute_result"
    }
   ],
   "source": [
    "len(Xnew_tsd.columns)"
   ]
  },
  {
   "cell_type": "code",
   "execution_count": 86,
   "id": "db68345d",
   "metadata": {},
   "outputs": [],
   "source": [
    "predicted_loanAmt = model.predict(Xnew_tsd)"
   ]
  },
  {
   "cell_type": "code",
   "execution_count": 87,
   "id": "8f94dc2b",
   "metadata": {},
   "outputs": [
    {
     "data": {
      "text/plain": [
       "[array([88.9375]),\n",
       " array([99.1875]),\n",
       " array([105.59375]),\n",
       " array([101.46875]),\n",
       " array([70.21875]),\n",
       " array([90.65625]),\n",
       " array([74.5]),\n",
       " array([95.5]),\n",
       " array([111.625]),\n",
       " array([84.75]),\n",
       " array([69.71875]),\n",
       " array([101.0625]),\n",
       " array([83.625]),\n",
       " array([125.28125]),\n",
       " array([78.375]),\n",
       " array([93.375]),\n",
       " array([110.3125]),\n",
       " array([107.125]),\n",
       " array([140.34375]),\n",
       " array([81.375]),\n",
       " array([89.6875]),\n",
       " array([64.8125]),\n",
       " array([78.8125]),\n",
       " array([64.75]),\n",
       " array([111.09375]),\n",
       " array([194.59375]),\n",
       " array([100.28125]),\n",
       " array([113.625]),\n",
       " array([91.5625]),\n",
       " array([75.90625]),\n",
       " array([65.46875]),\n",
       " array([103.90625]),\n",
       " array([90.1875]),\n",
       " array([95.03125]),\n",
       " array([88.75]),\n",
       " array([85.875]),\n",
       " array([111.125]),\n",
       " array([94.4375]),\n",
       " array([84.5625]),\n",
       " array([88.40625]),\n",
       " array([92.96875]),\n",
       " array([71.21875]),\n",
       " array([86.03125]),\n",
       " array([104.]),\n",
       " array([71.28125]),\n",
       " array([103.46875]),\n",
       " array([85.5625]),\n",
       " array([82.]),\n",
       " array([103.125]),\n",
       " array([112.]),\n",
       " array([98.4375]),\n",
       " array([102.125]),\n",
       " array([112.9375]),\n",
       " array([86.1875]),\n",
       " array([81.34375]),\n",
       " array([80.46875]),\n",
       " array([70.90625]),\n",
       " array([102.46875]),\n",
       " array([111.59375]),\n",
       " array([95.21875]),\n",
       " array([86.3125]),\n",
       " array([94.46875]),\n",
       " array([88.40625]),\n",
       " array([84.125]),\n",
       " array([96.1875]),\n",
       " array([104.3125]),\n",
       " array([88.46875]),\n",
       " array([91.8125]),\n",
       " array([98.65625]),\n",
       " array([116.03125]),\n",
       " array([74.4375]),\n",
       " array([84.65625]),\n",
       " array([82.1875]),\n",
       " array([99.71875]),\n",
       " array([102.59375]),\n",
       " array([95.96875]),\n",
       " array([94.34375]),\n",
       " array([90.40625]),\n",
       " array([117.875]),\n",
       " array([88.28125]),\n",
       " array([111.875]),\n",
       " array([292.28125]),\n",
       " array([104.6875]),\n",
       " array([100.9375]),\n",
       " array([81.875]),\n",
       " array([128.875]),\n",
       " array([93.03125]),\n",
       " array([80.78125]),\n",
       " array([94.21875]),\n",
       " array([79.5625]),\n",
       " array([98.09375]),\n",
       " array([132.53125]),\n",
       " array([112.3125]),\n",
       " array([101.625]),\n",
       " array([117.03125]),\n",
       " array([105.40625]),\n",
       " array([114.125]),\n",
       " array([104.1875]),\n",
       " array([117.5625]),\n",
       " array([113.1875]),\n",
       " array([84.71875]),\n",
       " array([90.15625]),\n",
       " array([93.5625]),\n",
       " array([74.53125]),\n",
       " array([89.59375]),\n",
       " array([86.75]),\n",
       " array([86.53125]),\n",
       " array([107.46875]),\n",
       " array([89.84375]),\n",
       " array([85.90625]),\n",
       " array([79.]),\n",
       " array([88.6875]),\n",
       " array([70.59375]),\n",
       " array([105.6875]),\n",
       " array([114.03125]),\n",
       " array([122.59375]),\n",
       " array([67.84375]),\n",
       " array([110.25]),\n",
       " array([84.90625]),\n",
       " array([112.]),\n",
       " array([76.625]),\n",
       " array([103.9375]),\n",
       " array([108.0625]),\n",
       " array([117.9375]),\n",
       " array([100.75]),\n",
       " array([85.21875]),\n",
       " array([90.90625]),\n",
       " array([103.0625]),\n",
       " array([63.71875]),\n",
       " array([99.1875]),\n",
       " array([88.96875]),\n",
       " array([81.75]),\n",
       " array([104.8125]),\n",
       " array([80.875]),\n",
       " array([59.5]),\n",
       " array([84.875]),\n",
       " array([99.125]),\n",
       " array([108.15625]),\n",
       " array([88.09375]),\n",
       " array([93.59375]),\n",
       " array([90.375]),\n",
       " array([110.8125]),\n",
       " array([110.28125]),\n",
       " array([166.09375]),\n",
       " array([92.6875]),\n",
       " array([92.84375]),\n",
       " array([74.53125]),\n",
       " array([95.03125]),\n",
       " array([104.]),\n",
       " array([84.34375]),\n",
       " array([99.15625]),\n",
       " array([88.4375]),\n",
       " array([86.25]),\n",
       " array([100.09375]),\n",
       " array([100.125]),\n",
       " array([79.0625]),\n",
       " array([116.78125]),\n",
       " array([100.84375]),\n",
       " array([111.4375]),\n",
       " array([92.5625]),\n",
       " array([106.28125]),\n",
       " array([85.375]),\n",
       " array([83.46875]),\n",
       " array([73.03125]),\n",
       " array([94.21875]),\n",
       " array([76.625]),\n",
       " array([88.96875]),\n",
       " array([98.15625]),\n",
       " array([113.1875]),\n",
       " array([90.21875]),\n",
       " array([76.5]),\n",
       " array([92.28125]),\n",
       " array([91.96875]),\n",
       " array([83.4375]),\n",
       " array([91.84375]),\n",
       " array([124.5625]),\n",
       " array([99.90625]),\n",
       " array([72.96875]),\n",
       " array([100.875]),\n",
       " array([132.46875]),\n",
       " array([111.375]),\n",
       " array([104.875]),\n",
       " array([94.34375]),\n",
       " array([112.03125]),\n",
       " array([121.46875]),\n",
       " array([82.34375]),\n",
       " array([98.53125]),\n",
       " array([112.03125]),\n",
       " array([107.]),\n",
       " array([129.40625]),\n",
       " array([72.78125]),\n",
       " array([79.28125]),\n",
       " array([110.5625]),\n",
       " array([110.90625]),\n",
       " array([129.]),\n",
       " array([84.5625]),\n",
       " array([105.28125]),\n",
       " array([84.59375]),\n",
       " array([97.84375]),\n",
       " array([90.71875]),\n",
       " array([119.5]),\n",
       " array([94.5]),\n",
       " array([87.59375]),\n",
       " array([91.78125]),\n",
       " array([76.84375]),\n",
       " array([97.3125]),\n",
       " array([114.5]),\n",
       " array([101.3125]),\n",
       " array([72.8125]),\n",
       " array([102.09375]),\n",
       " array([67.65625]),\n",
       " array([104.6875]),\n",
       " array([110.21875]),\n",
       " array([88.21875]),\n",
       " array([99.34375]),\n",
       " array([81.28125]),\n",
       " array([68.15625]),\n",
       " array([110.6875]),\n",
       " array([113.875]),\n",
       " array([104.375]),\n",
       " array([89.8125]),\n",
       " array([91.75]),\n",
       " array([100.90625]),\n",
       " array([85.03125]),\n",
       " array([94.28125]),\n",
       " array([68.15625]),\n",
       " array([89.4375]),\n",
       " array([116.71875]),\n",
       " array([93.53125]),\n",
       " array([103.]),\n",
       " array([190.09375]),\n",
       " array([92.03125]),\n",
       " array([76.34375]),\n",
       " array([96.25]),\n",
       " array([81.59375]),\n",
       " array([93.625]),\n",
       " array([104.03125]),\n",
       " array([170.5625]),\n",
       " array([92.53125]),\n",
       " array([97.4375]),\n",
       " array([71.8125]),\n",
       " array([101.03125]),\n",
       " array([91.46875]),\n",
       " array([98.34375]),\n",
       " array([64.4375]),\n",
       " array([94.90625]),\n",
       " array([107.9375]),\n",
       " array([100.84375]),\n",
       " array([81.90625]),\n",
       " array([67.71875]),\n",
       " array([115.21875]),\n",
       " array([83.84375]),\n",
       " array([86.3125]),\n",
       " array([98.75]),\n",
       " array([94.5625]),\n",
       " array([85.15625]),\n",
       " array([81.25]),\n",
       " array([104.875]),\n",
       " array([105.40625]),\n",
       " array([103.84375]),\n",
       " array([109.5625]),\n",
       " array([93.78125]),\n",
       " array([85.09375]),\n",
       " array([139.53125]),\n",
       " array([100.84375]),\n",
       " array([98.96875]),\n",
       " array([100.46875]),\n",
       " array([97.90625]),\n",
       " array([111.6875]),\n",
       " array([82.09375]),\n",
       " array([94.28125]),\n",
       " array([95.78125]),\n",
       " array([150.9375]),\n",
       " array([109.5]),\n",
       " array([80.]),\n",
       " array([110.4375]),\n",
       " array([91.09375]),\n",
       " array([68.6875]),\n",
       " array([107.8125]),\n",
       " array([153.375]),\n",
       " array([89.09375]),\n",
       " array([91.34375]),\n",
       " array([75.8125]),\n",
       " array([90.5625]),\n",
       " array([164.59375]),\n",
       " array([107.0625]),\n",
       " array([90.34375]),\n",
       " array([100.6875]),\n",
       " array([81.78125]),\n",
       " array([126.9375]),\n",
       " array([98.0625]),\n",
       " array([105.9375]),\n",
       " array([74.625]),\n",
       " array([87.8125]),\n",
       " array([94.375]),\n",
       " array([86.40625]),\n",
       " array([90.25]),\n",
       " array([76.125]),\n",
       " array([83.21875]),\n",
       " array([98.0625]),\n",
       " array([103.96875]),\n",
       " array([105.15625]),\n",
       " array([107.59375]),\n",
       " array([93.5]),\n",
       " array([88.25]),\n",
       " array([87.28125]),\n",
       " array([107.875]),\n",
       " array([90.53125]),\n",
       " array([106.09375]),\n",
       " array([112.375]),\n",
       " array([82.71875]),\n",
       " array([122.21875]),\n",
       " array([65.21875]),\n",
       " array([100.53125]),\n",
       " array([67.3125]),\n",
       " array([84.21875]),\n",
       " array([82.5]),\n",
       " array([91.09375]),\n",
       " array([78.78125]),\n",
       " array([90.90625]),\n",
       " array([102.65625]),\n",
       " array([73.21875]),\n",
       " array([83.]),\n",
       " array([152.75]),\n",
       " array([92.25]),\n",
       " array([72.78125]),\n",
       " array([90.6875]),\n",
       " array([99.90625]),\n",
       " array([122.125]),\n",
       " array([104.875]),\n",
       " array([92.75]),\n",
       " array([117.5]),\n",
       " array([93.4375]),\n",
       " array([83.59375]),\n",
       " array([91.8125]),\n",
       " array([83.78125]),\n",
       " array([72.53125]),\n",
       " array([87.59375]),\n",
       " array([103.25]),\n",
       " array([94.71875]),\n",
       " array([97.71875]),\n",
       " array([106.28125]),\n",
       " array([85.15625]),\n",
       " array([95.8125]),\n",
       " array([91.40625]),\n",
       " array([113.6875]),\n",
       " array([102.09375]),\n",
       " array([69.09375]),\n",
       " array([92.15625]),\n",
       " array([82.09375]),\n",
       " array([110.71875]),\n",
       " array([157.]),\n",
       " array([94.]),\n",
       " array([111.5]),\n",
       " array([95.9375]),\n",
       " array([118.0625]),\n",
       " array([103.4375]),\n",
       " array([74.875]),\n",
       " array([87.875]),\n",
       " array([97.40625]),\n",
       " array([111.71875]),\n",
       " array([104.75]),\n",
       " array([104.625]),\n",
       " array([88.3125]),\n",
       " array([91.125]),\n",
       " array([103.9375]),\n",
       " array([85.59375])]"
      ]
     },
     "execution_count": 87,
     "metadata": {},
     "output_type": "execute_result"
    }
   ],
   "source": [
    "list(predicted_loanAmt)"
   ]
  },
  {
   "cell_type": "code",
   "execution_count": 88,
   "id": "03e22e48",
   "metadata": {},
   "outputs": [],
   "source": [
    "Q = tsd[[\"Loan_ID\"]]\n",
    "Q[\"Loan_Amount\"]=predicted_loanAmt\n",
    "Q.to_csv(\"C:/Users/lenovo/OneDrive/Desktop/Loan.csv\")"
   ]
  },
  {
   "cell_type": "code",
   "execution_count": null,
   "id": "f72f5637",
   "metadata": {},
   "outputs": [],
   "source": []
  }
 ],
 "metadata": {
  "kernelspec": {
   "display_name": "Python 3",
   "language": "python",
   "name": "python3"
  },
  "language_info": {
   "codemirror_mode": {
    "name": "ipython",
    "version": 3
   },
   "file_extension": ".py",
   "mimetype": "text/x-python",
   "name": "python",
   "nbconvert_exporter": "python",
   "pygments_lexer": "ipython3",
   "version": "3.8.8"
  }
 },
 "nbformat": 4,
 "nbformat_minor": 5
}
